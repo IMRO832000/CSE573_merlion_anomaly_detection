{
  "cells": [
    {
      "cell_type": "code",
      "execution_count": null,
      "metadata": {
        "colab": {
          "base_uri": "https://localhost:8080/",
          "height": 1000
        },
        "id": "VpdTXJ6InufC",
        "outputId": "a2425dc3-6918-41dc-bc76-cb16a400358a"
      },
      "outputs": [
        {
          "name": "stdout",
          "output_type": "stream",
          "text": [
            "Requirement already satisfied: salesforce-merlion in /usr/local/lib/python3.10/dist-packages (2.0.2)\n",
            "Requirement already satisfied: cython in /usr/local/lib/python3.10/dist-packages (from salesforce-merlion) (3.0.10)\n",
            "Requirement already satisfied: dill in /usr/local/lib/python3.10/dist-packages (from salesforce-merlion) (0.3.8)\n",
            "Requirement already satisfied: GitPython in /usr/local/lib/python3.10/dist-packages (from salesforce-merlion) (3.1.43)\n",
            "Requirement already satisfied: py4j in /usr/local/lib/python3.10/dist-packages (from salesforce-merlion) (0.10.9.7)\n",
            "Requirement already satisfied: matplotlib in /usr/local/lib/python3.10/dist-packages (from salesforce-merlion) (3.7.1)\n",
            "Requirement already satisfied: plotly>=4.13 in /usr/local/lib/python3.10/dist-packages (from salesforce-merlion) (5.15.0)\n",
            "Requirement already satisfied: numpy>=1.21 in /usr/local/lib/python3.10/dist-packages (from salesforce-merlion) (1.25.2)\n",
            "Requirement already satisfied: packaging in /usr/local/lib/python3.10/dist-packages (from salesforce-merlion) (24.0)\n",
            "Requirement already satisfied: pandas>=1.1.0 in /usr/local/lib/python3.10/dist-packages (from salesforce-merlion) (2.0.3)\n",
            "Requirement already satisfied: prophet>=1.1 in /usr/local/lib/python3.10/dist-packages (from salesforce-merlion) (1.1.5)\n",
            "Requirement already satisfied: scikit-learn>=0.22 in /usr/local/lib/python3.10/dist-packages (from salesforce-merlion) (1.2.2)\n",
            "Requirement already satisfied: scipy>=1.6.0 in /usr/local/lib/python3.10/dist-packages (from salesforce-merlion) (1.11.4)\n",
            "Requirement already satisfied: statsmodels>=0.12.2 in /usr/local/lib/python3.10/dist-packages (from salesforce-merlion) (0.14.1)\n",
            "Requirement already satisfied: lightgbm in /usr/local/lib/python3.10/dist-packages (from salesforce-merlion) (4.1.0)\n",
            "Requirement already satisfied: tqdm in /usr/local/lib/python3.10/dist-packages (from salesforce-merlion) (4.66.2)\n",
            "Requirement already satisfied: python-dateutil>=2.8.2 in /usr/local/lib/python3.10/dist-packages (from pandas>=1.1.0->salesforce-merlion) (2.8.2)\n",
            "Requirement already satisfied: pytz>=2020.1 in /usr/local/lib/python3.10/dist-packages (from pandas>=1.1.0->salesforce-merlion) (2023.4)\n",
            "Requirement already satisfied: tzdata>=2022.1 in /usr/local/lib/python3.10/dist-packages (from pandas>=1.1.0->salesforce-merlion) (2024.1)\n",
            "Requirement already satisfied: tenacity>=6.2.0 in /usr/local/lib/python3.10/dist-packages (from plotly>=4.13->salesforce-merlion) (8.2.3)\n",
            "Requirement already satisfied: cmdstanpy>=1.0.4 in /usr/local/lib/python3.10/dist-packages (from prophet>=1.1->salesforce-merlion) (1.2.2)\n",
            "Requirement already satisfied: holidays>=0.25 in /usr/local/lib/python3.10/dist-packages (from prophet>=1.1->salesforce-merlion) (0.46)\n",
            "Requirement already satisfied: importlib-resources in /usr/local/lib/python3.10/dist-packages (from prophet>=1.1->salesforce-merlion) (6.4.0)\n",
            "Requirement already satisfied: contourpy>=1.0.1 in /usr/local/lib/python3.10/dist-packages (from matplotlib->salesforce-merlion) (1.2.1)\n",
            "Requirement already satisfied: cycler>=0.10 in /usr/local/lib/python3.10/dist-packages (from matplotlib->salesforce-merlion) (0.12.1)\n",
            "Requirement already satisfied: fonttools>=4.22.0 in /usr/local/lib/python3.10/dist-packages (from matplotlib->salesforce-merlion) (4.50.0)\n",
            "Requirement already satisfied: kiwisolver>=1.0.1 in /usr/local/lib/python3.10/dist-packages (from matplotlib->salesforce-merlion) (1.4.5)\n",
            "Requirement already satisfied: pillow>=6.2.0 in /usr/local/lib/python3.10/dist-packages (from matplotlib->salesforce-merlion) (9.4.0)\n",
            "Requirement already satisfied: pyparsing>=2.3.1 in /usr/local/lib/python3.10/dist-packages (from matplotlib->salesforce-merlion) (3.1.2)\n",
            "Requirement already satisfied: joblib>=1.1.1 in /usr/local/lib/python3.10/dist-packages (from scikit-learn>=0.22->salesforce-merlion) (1.3.2)\n",
            "Requirement already satisfied: threadpoolctl>=2.0.0 in /usr/local/lib/python3.10/dist-packages (from scikit-learn>=0.22->salesforce-merlion) (3.4.0)\n",
            "Requirement already satisfied: patsy>=0.5.4 in /usr/local/lib/python3.10/dist-packages (from statsmodels>=0.12.2->salesforce-merlion) (0.5.6)\n",
            "Requirement already satisfied: gitdb<5,>=4.0.1 in /usr/local/lib/python3.10/dist-packages (from GitPython->salesforce-merlion) (4.0.11)\n",
            "Requirement already satisfied: stanio<2.0.0,>=0.4.0 in /usr/local/lib/python3.10/dist-packages (from cmdstanpy>=1.0.4->prophet>=1.1->salesforce-merlion) (0.5.0)\n",
            "Requirement already satisfied: smmap<6,>=3.0.1 in /usr/local/lib/python3.10/dist-packages (from gitdb<5,>=4.0.1->GitPython->salesforce-merlion) (5.0.1)\n",
            "Requirement already satisfied: six in /usr/local/lib/python3.10/dist-packages (from patsy>=0.5.4->statsmodels>=0.12.2->salesforce-merlion) (1.16.0)\n",
            "fatal: destination path 'Merlion' already exists and is not an empty directory.\n",
            "Processing ./Merlion/ts_datasets\n",
            "  Preparing metadata (setup.py) ... \u001b[?25l\u001b[?25hdone\n",
            "Requirement already satisfied: cython in /usr/local/lib/python3.10/dist-packages (from ts-datasets==0.1.0) (3.0.10)\n",
            "Requirement already satisfied: numpy in /usr/local/lib/python3.10/dist-packages (from ts-datasets==0.1.0) (1.25.2)\n",
            "Requirement already satisfied: pandas in /usr/local/lib/python3.10/dist-packages (from ts-datasets==0.1.0) (2.0.3)\n",
            "Requirement already satisfied: requests in /usr/local/lib/python3.10/dist-packages (from ts-datasets==0.1.0) (2.31.0)\n",
            "Requirement already satisfied: tqdm in /usr/local/lib/python3.10/dist-packages (from ts-datasets==0.1.0) (4.66.2)\n",
            "Requirement already satisfied: wheel in /usr/local/lib/python3.10/dist-packages (from ts-datasets==0.1.0) (0.43.0)\n",
            "Requirement already satisfied: gdown in /usr/local/lib/python3.10/dist-packages (from ts-datasets==0.1.0) (4.7.3)\n",
            "Requirement already satisfied: filelock in /usr/local/lib/python3.10/dist-packages (from gdown->ts-datasets==0.1.0) (3.13.3)\n",
            "Requirement already satisfied: six in /usr/local/lib/python3.10/dist-packages (from gdown->ts-datasets==0.1.0) (1.16.0)\n",
            "Requirement already satisfied: beautifulsoup4 in /usr/local/lib/python3.10/dist-packages (from gdown->ts-datasets==0.1.0) (4.12.3)\n",
            "Requirement already satisfied: python-dateutil>=2.8.2 in /usr/local/lib/python3.10/dist-packages (from pandas->ts-datasets==0.1.0) (2.8.2)\n",
            "Requirement already satisfied: pytz>=2020.1 in /usr/local/lib/python3.10/dist-packages (from pandas->ts-datasets==0.1.0) (2023.4)\n",
            "Requirement already satisfied: tzdata>=2022.1 in /usr/local/lib/python3.10/dist-packages (from pandas->ts-datasets==0.1.0) (2024.1)\n",
            "Requirement already satisfied: charset-normalizer<4,>=2 in /usr/local/lib/python3.10/dist-packages (from requests->ts-datasets==0.1.0) (3.3.2)\n",
            "Requirement already satisfied: idna<4,>=2.5 in /usr/local/lib/python3.10/dist-packages (from requests->ts-datasets==0.1.0) (3.6)\n",
            "Requirement already satisfied: urllib3<3,>=1.21.1 in /usr/local/lib/python3.10/dist-packages (from requests->ts-datasets==0.1.0) (2.0.7)\n",
            "Requirement already satisfied: certifi>=2017.4.17 in /usr/local/lib/python3.10/dist-packages (from requests->ts-datasets==0.1.0) (2024.2.2)\n",
            "Requirement already satisfied: soupsieve>1.2 in /usr/local/lib/python3.10/dist-packages (from beautifulsoup4->gdown->ts-datasets==0.1.0) (2.5)\n",
            "Requirement already satisfied: PySocks!=1.5.7,>=1.5.6 in /usr/local/lib/python3.10/dist-packages (from requests->ts-datasets==0.1.0) (1.7.1)\n",
            "Building wheels for collected packages: ts-datasets\n",
            "  Building wheel for ts-datasets (setup.py) ... \u001b[?25l\u001b[?25hdone\n",
            "  Created wheel for ts-datasets: filename=ts_datasets-0.1.0-py3-none-any.whl size=28760 sha256=d723f0330bc7a5d5cedbaaf35283dc3ef4f93355df1c00429eb428375adcd7b9\n",
            "  Stored in directory: /tmp/pip-ephem-wheel-cache-5453uppm/wheels/2c/b6/40/b02460ead944003f35edca35c96d734ab4e66b5ea0b1f08e68\n",
            "Successfully built ts-datasets\n",
            "Installing collected packages: ts-datasets\n",
            "  Attempting uninstall: ts-datasets\n",
            "    Found existing installation: ts-datasets 0.1.0\n",
            "    Uninstalling ts-datasets-0.1.0:\n",
            "      Successfully uninstalled ts-datasets-0.1.0\n",
            "Successfully installed ts-datasets-0.1.0\n"
          ]
        },
        {
          "data": {
            "application/vnd.colab-display-data+json": {
              "id": "e9651a077f34483298517de7777966e8",
              "pip_warning": {
                "packages": [
                  "ts_datasets"
                ]
              }
            }
          },
          "metadata": {},
          "output_type": "display_data"
        }
      ],
      "source": [
        "!pip install salesforce-merlion\n",
        "!git clone https://github.com/salesforce/Merlion.git\n",
        "!pip install Merlion/ts_datasets/"
      ]
    },
    {
      "cell_type": "code",
      "execution_count": null,
      "metadata": {
        "colab": {
          "base_uri": "https://localhost:8080/"
        },
        "id": "69e_xVsTjxyx",
        "outputId": "1c1c07b8-b350-4108-d024-dfc5e50bb9c7"
      },
      "outputs": [
        {
          "name": "stdout",
          "output_type": "stream",
          "text": [
            "Downloading https://www.dropbox.com/s/uv9ojw353qwzqht/SMAP.tar.gz?dl=1\n"
          ]
        },
        {
          "name": "stderr",
          "output_type": "stream",
          "text": [
            "INFO:ts_datasets.anomaly.msl:Downloading https://www.dropbox.com/s/uv9ojw353qwzqht/SMAP.tar.gz?dl=1\n"
          ]
        },
        {
          "name": "stdout",
          "output_type": "stream",
          "text": [
            "Uncompressing /usr/local/lib/python3.10/data/smap/SMAP.tar.gz\n"
          ]
        },
        {
          "name": "stderr",
          "output_type": "stream",
          "text": [
            "INFO:ts_datasets.anomaly.msl:Uncompressing /usr/local/lib/python3.10/data/smap/SMAP.tar.gz\n"
          ]
        },
        {
          "name": "stdout",
          "output_type": "stream",
          "text": [
            "Preprocessing MSL\n"
          ]
        },
        {
          "name": "stderr",
          "output_type": "stream",
          "text": [
            "INFO:ts_datasets.anomaly.msl:Preprocessing MSL\n"
          ]
        },
        {
          "name": "stdout",
          "output_type": "stream",
          "text": [
            "Time series is 55-dimensional\n"
          ]
        }
      ],
      "source": [
        "from merlion.utils import TimeSeries\n",
        "from ts_datasets.anomaly import MSL\n",
        "\n",
        "time_series, metadata = MSL()[0]\n",
        "train_data = TimeSeries.from_pd(time_series[metadata.trainval])\n",
        "test_data = TimeSeries.from_pd(time_series[~metadata.trainval])\n",
        "test_labels = TimeSeries.from_pd(metadata.anomaly[~metadata.trainval])\n",
        "\n",
        "print(f\"Time series is {train_data.dim}-dimensional\")"
      ]
    },
    {
      "cell_type": "code",
      "execution_count": null,
      "metadata": {
        "colab": {
          "base_uri": "https://localhost:8080/"
        },
        "id": "5wGcMPBsoCoB",
        "outputId": "4d5646cc-9357-431f-d63b-ae0259498711"
      },
      "outputs": [
        {
          "name": "stdout",
          "output_type": "stream",
          "text": [
            "Training IsolationForest...\n",
            "Training RandomCutForest...\n",
            "Training AutoEncoder...\n",
            " |========================================| 100.0% Complete, Loss 0.0005\n",
            "Training VAE...\n",
            " |========================================| 100.0% Complete, Loss 0.0006\n",
            "Training DeepPointAnomalyDetector...\n"
          ]
        },
        {
          "name": "stderr",
          "output_type": "stream",
          "text": [
            "WARNING:merlion.post_process.calibrate:Obtained max score of 29316.59, but self.max_score is only 1000.00. Updating self.max_score to 58633.18.\n"
          ]
        }
      ],
      "source": [
        "# We initialize models using the model factory in this tutorial\n",
        "# We manually set the detection threshold to 2 (in standard deviation units) for all models\n",
        "from merlion.models.factory import ModelFactory\n",
        "from merlion.post_process.threshold import AggregateAlarms\n",
        "\n",
        "#model1 = ModelFactory.create(\"ZMS\",\n",
        "                             #threshold=AggregateAlarms(alm_threshold=2))\n",
        "\n",
        "model2 = ModelFactory.create(\"IsolationForest\",\n",
        "                             threshold=AggregateAlarms(alm_threshold=2))\n",
        "\n",
        "model3 = ModelFactory.create(\"RandomCutForest\",\n",
        "                             threshold=AggregateAlarms(alm_threshold=2))\n",
        "\n",
        "model4 = ModelFactory.create(\"AutoEncoder\",\n",
        "                             threshold=AggregateAlarms(alm_threshold=2))\n",
        "\n",
        "model5 = ModelFactory.create(\"VAE\",\n",
        "                             threshold=AggregateAlarms(alm_threshold=2))\n",
        "\n",
        "model6 = ModelFactory.create(\"DeepPointAnomalyDetector\",\n",
        "                             threshold=AggregateAlarms(alm_threshold=2))\n",
        "\n",
        "for model in [model2, model3, model4, model5, model6]:\n",
        "    print(f\"Training {type(model).__name__}...\")\n",
        "    train_scores = model.train(train_data)"
      ]
    },
    {
      "cell_type": "code",
      "execution_count": null,
      "metadata": {
        "colab": {
          "base_uri": "https://localhost:8080/"
        },
        "id": "2dFVY8Krqy7L",
        "outputId": "33060f45-4bb9-49d2-866c-a5f5cd3c35bb"
      },
      "outputs": [
        {
          "name": "stdout",
          "output_type": "stream",
          "text": [
            "IsolationForest\n",
            "Precision: 0.9638\n",
            "Recall:    0.8192\n",
            "F1:        0.8856\n",
            "MTTD:      0 days 01:40:57\n",
            "\n",
            "RandomCutForest\n",
            "Precision: 0.9558\n",
            "Recall:    0.9057\n",
            "F1:        0.9301\n",
            "MTTD:      0 days 00:56:02\n",
            "\n",
            "AutoEncoder\n",
            "Precision: 0.9643\n",
            "Recall:    0.8696\n",
            "F1:        0.9145\n",
            "MTTD:      0 days 00:53:54\n",
            "\n",
            "VAE\n",
            "Precision: 0.9551\n",
            "Recall:    0.8661\n",
            "F1:        0.9084\n",
            "MTTD:      0 days 01:00:40\n",
            "\n",
            "DeepPointAnomalyDetector\n",
            "Precision: 0.9543\n",
            "Recall:    0.8305\n",
            "F1:        0.8881\n",
            "MTTD:      0 days 00:59:12\n",
            "\n"
          ]
        }
      ],
      "source": [
        "from merlion.evaluate.anomaly import TSADMetric\n",
        "\n",
        "for model in [model2, model3, model4, model5, model6]:\n",
        "    labels = model.get_anomaly_label(test_data)\n",
        "    precision = TSADMetric.PointAdjustedPrecision.value(ground_truth=test_labels, predict=labels)\n",
        "    recall = TSADMetric.PointAdjustedRecall.value(ground_truth=test_labels, predict=labels)\n",
        "    f1 = TSADMetric.PointAdjustedF1.value(ground_truth=test_labels, predict=labels)\n",
        "    mttd = TSADMetric.MeanTimeToDetect.value(ground_truth=test_labels, predict=labels)\n",
        "    print(f\"{type(model).__name__}\")\n",
        "    print(f\"Precision: {precision:.4f}\")\n",
        "    print(f\"Recall:    {recall:.4f}\")\n",
        "    print(f\"F1:        {f1:.4f}\")\n",
        "    print(f\"MTTD:      {mttd}\")\n",
        "    print()"
      ]
    },
    {
      "cell_type": "code",
      "execution_count": null,
      "metadata": {
        "colab": {
          "base_uri": "https://localhost:8080/"
        },
        "id": "MqjBdQn-tVZg",
        "outputId": "f23b6eb2-d3c1-4348-931e-f1a9a7baaee2"
      },
      "outputs": [
        {
          "name": "stdout",
          "output_type": "stream",
          "text": [
            "Time series is 25-dimensional\n"
          ]
        }
      ],
      "source": [
        "from merlion.utils import TimeSeries\n",
        "from ts_datasets.anomaly import SMAP\n",
        "\n",
        "time_series2, metadata2 = SMAP()[0]\n",
        "train_data2 = TimeSeries.from_pd(time_series2[metadata2.trainval])\n",
        "test_data2 = TimeSeries.from_pd(time_series2[~metadata2.trainval])\n",
        "test_labels2 = TimeSeries.from_pd(metadata2.anomaly[~metadata2.trainval])\n",
        "\n",
        "print(f\"Time series is {train_data2.dim}-dimensional\")"
      ]
    },
    {
      "cell_type": "code",
      "execution_count": null,
      "metadata": {
        "colab": {
          "background_save": true,
          "base_uri": "https://localhost:8080/"
        },
        "id": "Lt6WEyDykw3y",
        "outputId": "4bae0d47-d3ce-458a-b304-82b1014a15fa"
      },
      "outputs": [
        {
          "name": "stdout",
          "output_type": "stream",
          "text": [
            "Training IsolationForest...\n",
            "Training RandomCutForest...\n",
            "Training AutoEncoder...\n",
            " |========================================| 100.0% Complete, Loss 0.0004\n",
            "Training VAE...\n",
            " |========================================| 100.0% Complete, Loss 0.0009\n",
            "Training DeepPointAnomalyDetector...\n"
          ]
        },
        {
          "name": "stderr",
          "output_type": "stream",
          "text": [
            "WARNING:merlion.post_process.calibrate:Obtained max score of 68809.42, but self.max_score is only 1000.00. Updating self.max_score to 137618.84.\n"
          ]
        }
      ],
      "source": [
        "# We initialize models using the model factory in this tutorial\n",
        "# We manually set the detection threshold to 2 (in standard deviation units) for all models\n",
        "from merlion.models.factory import ModelFactory\n",
        "from merlion.post_process.threshold import AggregateAlarms\n",
        "\n",
        "#model7 = ModelFactory.create(\"ZMS\",\n",
        "                             #threshold=AggregateAlarms(alm_threshold=2))\n",
        "\n",
        "model8 = ModelFactory.create(\"IsolationForest\",\n",
        "                             threshold=AggregateAlarms(alm_threshold=2))\n",
        "\n",
        "model9 = ModelFactory.create(\"RandomCutForest\",\n",
        "                             threshold=AggregateAlarms(alm_threshold=2))\n",
        "\n",
        "model10 = ModelFactory.create(\"AutoEncoder\",\n",
        "                             threshold=AggregateAlarms(alm_threshold=2))\n",
        "\n",
        "model11 = ModelFactory.create(\"VAE\",\n",
        "                             threshold=AggregateAlarms(alm_threshold=2))\n",
        "\n",
        "model12 = ModelFactory.create(\"DeepPointAnomalyDetector\",\n",
        "                             threshold=AggregateAlarms(alm_threshold=2))\n",
        "\n",
        "for model in [model8, model9, model10, model11, model12]:\n",
        "    print(f\"Training {type(model).__name__}...\")\n",
        "    train_scores = model.train(train_data2)"
      ]
    },
    {
      "cell_type": "code",
      "execution_count": null,
      "metadata": {
        "colab": {
          "background_save": true,
          "base_uri": "https://localhost:8080/"
        },
        "id": "ngxrVQi5t5Uf",
        "outputId": "717dc37b-5567-4f2e-860a-1b372c4d1624"
      },
      "outputs": [
        {
          "name": "stdout",
          "output_type": "stream",
          "text": [
            "IsolationForest\n",
            "Precision: 0.9579\n",
            "Recall:    0.5201\n",
            "F1:        0.6742\n",
            "MTTD:      0 days 00:35:42\n",
            "\n",
            "RandomCutForest\n",
            "Precision: 0.9614\n",
            "Recall:    0.6561\n",
            "F1:        0.7799\n",
            "MTTD:      0 days 01:37:26\n",
            "\n",
            "AutoEncoder\n",
            "Precision: 0.9577\n",
            "Recall:    0.5257\n",
            "F1:        0.6788\n",
            "MTTD:      0 days 00:49:42\n",
            "\n",
            "VAE\n",
            "Precision: 0.9562\n",
            "Recall:    0.5137\n",
            "F1:        0.6683\n",
            "MTTD:      0 days 00:47:53\n",
            "\n",
            "DeepPointAnomalyDetector\n",
            "Precision: 0.9617\n",
            "Recall:    0.6305\n",
            "F1:        0.7617\n",
            "MTTD:      0 days 01:37:01\n",
            "\n"
          ]
        }
      ],
      "source": [
        "from merlion.evaluate.anomaly import TSADMetric\n",
        "for model in [model8, model9, model10, model11, model12]:\n",
        "    labels = model.get_anomaly_label(test_data2)\n",
        "    precision = TSADMetric.PointAdjustedPrecision.value(ground_truth=test_labels2, predict=labels)\n",
        "    recall = TSADMetric.PointAdjustedRecall.value(ground_truth=test_labels2, predict=labels)\n",
        "    f1 = TSADMetric.PointAdjustedF1.value(ground_truth=test_labels2, predict=labels)\n",
        "    mttd = TSADMetric.MeanTimeToDetect.value(ground_truth=test_labels2, predict=labels)\n",
        "    print(f\"{type(model).__name__}\")\n",
        "    print(f\"Precision: {precision:.4f}\")\n",
        "    print(f\"Recall:    {recall:.4f}\")\n",
        "    print(f\"F1:        {f1:.4f}\")\n",
        "    print(f\"MTTD:      {mttd}\")\n",
        "    print()"
      ]
    }
  ],
  "metadata": {
    "colab": {
      "provenance": []
    },
    "kernelspec": {
      "display_name": "Python 3",
      "name": "python3"
    },
    "language_info": {
      "name": "python"
    }
  },
  "nbformat": 4,
  "nbformat_minor": 0
}